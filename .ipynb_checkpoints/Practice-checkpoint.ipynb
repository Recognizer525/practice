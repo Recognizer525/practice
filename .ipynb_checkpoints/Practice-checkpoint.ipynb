{
 "cells": [
  {
   "cell_type": "markdown",
   "metadata": {},
   "source": [
    "Practice"
   ]
  },
  {
   "cell_type": "markdown",
   "metadata": {},
   "source": [
    "# Handling missing values"
   ]
  },
  {
   "cell_type": "code",
   "execution_count": 1,
   "metadata": {},
   "outputs": [],
   "source": [
    "import math\n",
    "import numpy as np\n",
    "import random\n",
    "import matplotlib.pyplot as plt\n",
    "import pandas as pd\n",
    "from sklearn import linear_model\n",
    "from scipy.stats import t\n",
    "import warnings\n",
    "import grandtools as gt\n",
    "warnings.filterwarnings('ignore')"
   ]
  },
  {
   "cell_type": "markdown",
   "metadata": {},
   "source": [
    "# 2.1.1 EM for bivariate Gaussian data"
   ]
  },
  {
   "cell_type": "code",
   "execution_count": 2,
   "metadata": {},
   "outputs": [],
   "source": [
    "#R1\n",
    "n=100\n",
    "r=math.floor(n*0.3)\n",
    "mu=[5, -1]\n",
    "Sigma=[[1.3,0.4],[0.4,0.9]]\n",
    "Y=np.random.multivariate_normal(size=n,mean=mu,cov=Sigma)\n",
    "f=[1 for i in range(n-r)]\n",
    "g=[0 for i in range(r)]\n",
    "h=f+g\n",
    "random.seed(50)\n",
    "random.shuffle(h)\n",
    "for i in range(len(h)):\n",
    "    if h[i]==0:\n",
    "        Y[i,1]=None"
   ]
  },
  {
   "cell_type": "code",
   "execution_count": 3,
   "metadata": {},
   "outputs": [],
   "source": [
    "#R2\n",
    "hat_mu1=(1/n)*sum(Y[:,0])\n",
    "def estimators(a):\n",
    "    y1_bar=np.mean(a[:,0])\n",
    "    y2_bar=np.mean(a[:,1])\n",
    "    s11=np.mean((a[:,0]-y1_bar)**2)\n",
    "    s22=np.mean((a[:,1]-y2_bar)**2)\n",
    "    s12=np.mean((a[:,0]-y1_bar)*(a[:,1]-y2_bar))\n",
    "    return y1_bar, y2_bar, s11, s22, s12\n",
    "y1_bar, y2_bar, s11, s22, s12 = estimators(gt.cleared_arr(Y))\n",
    "hat_beta_21_1=s12/s11\n",
    "hat_beta_20_1 = y2_bar-hat_beta_21_1*y1_bar\n",
    "hat_mu2=hat_beta_21_1*hat_mu1+hat_beta_20_1\n",
    "res_ml=(hat_mu1,hat_mu2)"
   ]
  },
  {
   "cell_type": "code",
   "execution_count": 4,
   "metadata": {},
   "outputs": [],
   "source": [
    "#R3\n",
    "def Estep(Y,mu,Sigma):\n",
    "    n=len(Y)\n",
    "    sigma_22_1=Sigma[1,1]-(Sigma[0,1]**2)/Sigma[0,0]\n",
    "    beta_21_1=Sigma[0,1]/Sigma[0,0]\n",
    "    beta_20_1=mu[1]-beta_21_1*mu[0]\n",
    "    E_y2=np.zeros(n)\n",
    "    for i in range(len(Y)):\n",
    "        if np.isnan(Y[i,1])==True:\n",
    "            E_y2[i]=beta_20_1+beta_21_1*Y[i,0]\n",
    "        else:\n",
    "            E_y2[i]=Y[i,1]\n",
    "    E_y1=Y[:,0].copy()\n",
    "    E_y2_y2=np.zeros(n)\n",
    "    for i in range(len(E_y2)):\n",
    "        if np.isnan(Y[i,1])==True:\n",
    "            E_y2_y2[i]=E_y2[i]**2+sigma_22_1\n",
    "        else: \n",
    "            E_y2_y2[i]=E_y2[i]**2\n",
    "    E_y1_y1=Y[:,0]**2\n",
    "    E_y1_y2=np.zeros(n)\n",
    "    E_y1_y2=E_y2*E_y1\n",
    "    return sum(E_y1), sum(E_y2), sum(E_y1_y1), sum(E_y1_y2), sum(E_y2_y2)\n",
    "# s1, s2, s11, s12, s22\n",
    "def Mstep(Y, s1, s2, s11, s12, s22):\n",
    "    n=len(Y)\n",
    "    mu1=s1/n\n",
    "    mu2=s2/n\n",
    "    sigma1=s11/n-mu1**2\n",
    "    sigma2=s22/n-mu2**2\n",
    "    sigma12=s12/n-mu1*mu2\n",
    "    mu=np.array([mu1,mu2],dtype=np.float64)\n",
    "    Sigma=np.array([[sigma1,sigma12],[sigma12,sigma2]],dtype=np.float64)\n",
    "    return mu,Sigma\n",
    "            \n",
    "    \n",
    "\n"
   ]
  },
  {
   "cell_type": "code",
   "execution_count": 5,
   "metadata": {},
   "outputs": [],
   "source": [
    "#R4\n",
    "def initEM(Y):\n",
    "    n=len(Y)\n",
    "    mv=0\n",
    "    for i in range(len(Y)):\n",
    "        if np.isnan(Y[i,1])==True:\n",
    "            mv+=1\n",
    "    r=n-mv\n",
    "    mu1=np.mean(Y[:,0])\n",
    "    Z=Y[:,1]\n",
    "    Z0=list()\n",
    "    for i in range(len(Y)):\n",
    "        if np.isnan(Y[i,1])==False:\n",
    "            Z0.append(Y[i,0])\n",
    "    Z = Z[~np.isnan(Z)]\n",
    "    mu2=np.mean(Z)\n",
    "    s1=np.mean(Y[:,0]**2)-mu1**2\n",
    "    s2=np.mean(Z)-mu2**2\n",
    "    s12=np.mean(Z0*Z)-mu1*mu2\n",
    "    mu=np.array([mu1,mu2],dtype=np.float64)\n",
    "    Sigma=np.array([[s1,s12],[s12,s2]],dtype=np.float64)\n",
    "    return mu,Sigma\n",
    "    \n"
   ]
  },
  {
   "cell_type": "code",
   "execution_count": 6,
   "metadata": {},
   "outputs": [
    {
     "name": "stdout",
     "output_type": "stream",
     "text": [
      "mu: [ 4.9784227  -1.09903487] \n",
      " Sigma: [[ 1.43694794  0.31303196]\n",
      " [ 0.31303196 -2.30691251]]\n"
     ]
    },
    {
     "data": {
      "image/png": "[encoded data removed]",
      "text/plain": [
       "<Figure size 432x288 with 1 Axes>"
      ]
     },
     "metadata": {
      "needs_background": "light"
     },
     "output_type": "display_data"
    }
   ],
   "source": [
    "#R5\n",
    "i_mu,i_Sigma=initEM(Y)\n",
    "hat_mu=i_mu.copy()\n",
    "hat_Sigma=i_Sigma.copy()\n",
    "print('mu:',i_mu,'\\n','Sigma:',i_Sigma)\n",
    "error_mu=np.zeros(50)\n",
    "\n",
    "for i in range(50):\n",
    "    error_mu[i]=np.sqrt(sum((hat_mu-mu)**2))\n",
    "    s1, s2, s11, s12, s22 = Estep(Y,hat_mu, hat_Sigma)\n",
    "    hat_mu,hat_Sigma = Mstep(Y, s1, s2, s11, s12, s22)\n",
    "plt.plot(list(error_mu),color='red')\n",
    "plt.title('the error of mu prediction')\n",
    "plt.xlabel('iteration')\n",
    "plt.ylabel('error')\n",
    "plt.grid()\n",
    "plt.show()\n",
    "    \n"
   ]
  },
  {
   "cell_type": "code",
   "execution_count": 7,
   "metadata": {},
   "outputs": [
    {
     "name": "stdout",
     "output_type": "stream",
     "text": [
      "res_ml (4.97842270350226, -1.123114228921768)\n",
      "resEM [ 4.9784227  -1.12311423]\n"
     ]
    }
   ],
   "source": [
    "#R6\n",
    "resEM=hat_mu\n",
    "print('res_ml',res_ml)\n",
    "print('resEM',resEM)"
   ]
  },
  {
   "cell_type": "code",
   "execution_count": 8,
   "metadata": {},
   "outputs": [
    {
     "name": "stdout",
     "output_type": "stream",
     "text": [
      "Iteration= 3 , Convergence rate of mu2 = 0.40989116919484436 \n",
      "\n",
      "Iteration= 4 , Convergence rate of mu2 = 0.39239319170996095 \n",
      "\n",
      "Iteration= 5 , Convergence rate of mu2 = 0.3820858165982951 \n",
      "\n",
      "Iteration= 6 , Convergence rate of mu2 = 0.3755722935455646 \n",
      "\n",
      "Iteration= 7 , Convergence rate of mu2 = 0.3712718649072866 \n",
      "\n",
      "Iteration= 8 , Convergence rate of mu2 = 0.36834989046601674 \n",
      "\n",
      "Iteration= 9 , Convergence rate of mu2 = 0.36632559418529764 \n",
      "\n",
      "Iteration= 10 , Convergence rate of mu2 = 0.3649042588695069 \n",
      "\n",
      "Iteration= 11 , Convergence rate of mu2 = 0.36389686217066536 \n",
      "\n",
      "Iteration= 12 , Convergence rate of mu2 = 0.363178086484322 \n",
      "\n",
      "Iteration= 13 , Convergence rate of mu2 = 0.36266280325398215 \n",
      "\n",
      "Iteration= 14 , Convergence rate of mu2 = 0.3622921409915256 \n",
      "\n",
      "Iteration= 15 , Convergence rate of mu2 = 0.36202487229912655 \n",
      "\n",
      "Iteration= 16 , Convergence rate of mu2 = 0.36183174061522094 \n",
      "\n",
      "Iteration= 17 , Convergence rate of mu2 = 0.3616922607395202 \n",
      "\n",
      "Iteration= 18 , Convergence rate of mu2 = 0.36159081332934373 \n",
      "\n",
      "Iteration= 19 , Convergence rate of mu2 = 0.36151895222212505 \n",
      "\n",
      "Percentage of missingness is: 0.3\n"
     ]
    }
   ],
   "source": [
    "#Q7\n",
    "i_mu,i_Sigma=initEM(Y)\n",
    "hat_mu=i_mu.copy()\n",
    "old_hat_mu=old_old_hat_mu=0\n",
    "hat_Sigma=i_Sigma.copy()\n",
    "error_mu=np.zeros(20)\n",
    "for i in range(20):\n",
    "    old_old_hat_mu=old_hat_mu\n",
    "    old_hat_mu=hat_mu\n",
    "    s1, s2, s11, s12, s22 = Estep(Y,hat_mu, hat_Sigma)\n",
    "    hat_mu,hat_Sigma = Mstep(Y, s1, s2, s11, s12, s22)\n",
    "    if (i>=3):\n",
    "        print('Iteration=',i,\", Convergence rate of mu2 =\",(hat_mu-old_hat_mu)[1]/(old_hat_mu-old_old_hat_mu)[1],'\\n')\n",
    "num_miss=0\n",
    "num=len(Y[:,1])\n",
    "for i in range(len(Y)):\n",
    "    if np.isnan(Y[i,1]):\n",
    "        num_miss+=1\n",
    "print(\"Percentage of missingness is:\", num_miss/num)"
   ]
  },
  {
   "cell_type": "code",
   "execution_count": 9,
   "metadata": {},
   "outputs": [],
   "source": [
    "#R7-1\n",
    "n = 100\n",
    "r = math.floor(n*0.3)\n",
    "mu = [5, -1]\n",
    "Sigma = [[1.3,0.4],[0.4,0.9]]\n",
    "Y=np.random.multivariate_normal(size=n,mean=mu,cov=Sigma)\n",
    "f=[1 for i in range(n-r)]\n",
    "g=[0 for i in range(r)]\n",
    "h=f+g\n",
    "random.shuffle(h)\n",
    "Y1=Y.copy()\n",
    "for i in range(len(h)):\n",
    "    if h[i]==0:\n",
    "        Y1[i,1]=None\n",
    "Y2=Y.copy()\n",
    "MinValueToDelete=np.flip(np.sort(Y[:,1]))[29]\n",
    "deletescore=0\n",
    "for i in range(len(Y2)):\n",
    "    if deletescore<30 and Y2[i,1]>=MinValueToDelete:\n",
    "        Y2[i,1]=None\n"
   ]
  },
  {
   "cell_type": "code",
   "execution_count": 10,
   "metadata": {},
   "outputs": [
    {
     "name": "stdout",
     "output_type": "stream",
     "text": [
      "hat_mu_MAR: [ 5.10472453 -1.19608412]\n",
      "hat_mu_MNAR: [ 5.10472453 -1.1371554 ]\n",
      "hat_Sigma_MAR: [[ 1.23049867  4.4314199 ]\n",
      " [ 4.4314199  -6.46505437]]\n",
      "hat_Sigma_MNAR: [[  1.23049867 -75.46223205]\n",
      " [-75.46223205  -1.78657363]]\n"
     ]
    }
   ],
   "source": [
    "#R7-2\n",
    "i1_mu, i1_Sigma = initEM(Y1)\n",
    "hat_mu_MAR=i1_mu\n",
    "hat_Sigma_MAR=i1_Sigma\n",
    "i2_mu, i2_Sigma = initEM(Y2)\n",
    "hat_mu_MNAR=i2_mu\n",
    "hat_Sigma_MNAR=i2_Sigma\n",
    "\n",
    "#MAR\n",
    "i1_mu, i1_Sigma = initEM(Y1)\n",
    "hat_mu_MAR=i1_mu\n",
    "hat_Sigma_MAR=i1_Sigma\n",
    "error_mu=np.zeros(50)\n",
    "for i in range(50):\n",
    "    error_mu[i]=np.sqrt(sum((hat_mu_MAR-mu)**2))\n",
    "    # E step\n",
    "    s1, s2, s11, s12, s22=Estep(Y1, hat_mu_MAR, hat_Sigma_MAR)\n",
    "    hat_mu_MAR, hat_Sigma_MAR=Mstep(Y1, s1, s2, s11, s22, s12)\n",
    "\n",
    "\n",
    "#MNAR\n",
    "i2_mu, i2_Sigma = initEM(Y2)\n",
    "hat_mu_MNAR=i2_mu\n",
    "hat_Sigma_MNAR=i2_Sigma\n",
    "error_mu=np.zeros(50)\n",
    "for i in range(50):\n",
    "    error_mu[i]=np.sqrt(sum((hat_mu_MNAR-mu)**2))\n",
    "    # E step\n",
    "    s1, s2, s11, s12, s22=Estep(Y2, hat_mu_MNAR, hat_Sigma_MNAR)\n",
    "    hat_mu_MNAR, hat_Sigma_MNAR=Mstep(Y2, s1, s2, s11, s22, s12)\n",
    "\n",
    "print('hat_mu_MAR:',hat_mu_MAR)\n",
    "print('hat_mu_MNAR:',hat_mu_MNAR)\n",
    "print('hat_Sigma_MAR:',hat_Sigma_MAR)\n",
    "print('hat_Sigma_MNAR:',hat_Sigma_MNAR)"
   ]
  },
  {
   "cell_type": "markdown",
   "metadata": {},
   "source": [
    "# 3 Single imputation"
   ]
  },
  {
   "cell_type": "markdown",
   "metadata": {},
   "source": [
    "# 3.1 Single imputation with the means or with regression - bivariate case"
   ]
  },
  {
   "cell_type": "code",
   "execution_count": 11,
   "metadata": {},
   "outputs": [],
   "source": [
    "n=100"
   ]
  },
  {
   "cell_type": "code",
   "execution_count": 12,
   "metadata": {},
   "outputs": [],
   "source": [
    "# Вспомогательные функции\n",
    "# Отрисовка графика\n",
    "def plot_maker(X1,Y1,X2,Y2,title):\n",
    "    plt.title(title)\n",
    "    plt.scatter(X1,Y1,color='blue',label='known data')\n",
    "    plt.scatter(X2,Y2,color='red',label='imputed data')\n",
    "    plt.xlim([50,200])\n",
    "    plt.ylim([50,200])\n",
    "    plt.legend(loc='upper left')\n",
    "    plt.xlabel(\"X\")\n",
    "    plt.ylabel(\"Y\")\n",
    "    plt.grid()\n",
    "    plt.show()\n",
    "# Гауссовский шум, нужен для Stochastic regression imputation\n",
    "def gaussian_noise(x, mu = 0, std=None, random_state = 8):\n",
    "    rs = np.random.RandomState(random_state)\n",
    "    noise = rs.normal(mu, std, size = x.shape)\n",
    "    return x + noise\n",
    "# Создаем двумерное нормальное распределение и случайным образом определяем 73 пропуска\n",
    "def data_maker(n=100):    \n",
    "    sigma=np.array([[625,375],[375,625]], dtype=np.float64)\n",
    "    don=np.random.multivariate_normal(size=n,mean=[125,125],cov=sigma)\n",
    "    f=[1 for i in range(27)]\n",
    "    g=[0 for i in range(73)]\n",
    "    h=f+g\n",
    "    random.shuffle(h)\n",
    "    donmiss=don.copy()\n",
    "    for i in range(len(donmiss)):\n",
    "        if h[i]==0:\n",
    "            donmiss[i,1]=np.nan\n",
    "    return don, donmiss\n",
    "    "
   ]
  },
  {
   "cell_type": "code",
   "execution_count": 13,
   "metadata": {},
   "outputs": [],
   "source": [
    "don, donmiss = gt.data_maker()"
   ]
  },
  {
   "cell_type": "code",
   "execution_count": 14,
   "metadata": {},
   "outputs": [
    {
     "data": {
      "image/png": "[encoded data removed]",
      "text/plain": [
       "<Figure size 432x288 with 1 Axes>"
      ]
     },
     "metadata": {
      "needs_background": "light"
     },
     "output_type": "display_data"
    }
   ],
   "source": [
    "plt.scatter(don[:,0],don[:,1],color='blue')\n",
    "plt.grid()\n",
    "plt.xlabel(\"X\")\n",
    "plt.ylabel(\"Y\")\n",
    "plt.show()"
   ]
  },
  {
   "cell_type": "code",
   "execution_count": 15,
   "metadata": {},
   "outputs": [],
   "source": [
    "d1=np.mean((donmiss[:,1])[~np.isnan(donmiss[:,1])])\n",
    "d_miss=np.zeros((73,2))\n",
    "d_obs=np.zeros((27,2))\n",
    "k1=0\n",
    "k2=0\n",
    "for i in range(len(donmiss)):\n",
    "    if np.isnan(donmiss[i,1]):\n",
    "        d_miss[k1]=[donmiss[i,0],d1]\n",
    "        k1+=1\n",
    "    else:\n",
    "        d_obs[k2]=donmiss[i]\n",
    "        k2+=1"
   ]
  },
  {
   "cell_type": "code",
   "execution_count": 16,
   "metadata": {},
   "outputs": [
    {
     "data": {
      "image/png": "[encoded data removed]",
      "text/plain": [
       "<Figure size 432x288 with 1 Axes>"
      ]
     },
     "metadata": {
      "needs_background": "light"
     },
     "output_type": "display_data"
    }
   ],
   "source": [
    "gt.plot_maker(d_obs[:,0],d_obs[:,1],d_miss[:,0],d_miss[:,1],\"Mean imputation\")"
   ]
  },
  {
   "cell_type": "code",
   "execution_count": 17,
   "metadata": {},
   "outputs": [],
   "source": [
    "reg = linear_model.LinearRegression()\n",
    "reg.fit(d_obs[:,0].reshape((-1,1)),d_obs[:,1])\n",
    "e_miss=np.zeros((73,2))\n",
    "k3=0\n",
    "for i in range(len(donmiss)):\n",
    "    if np.isnan(donmiss[i,1]):\n",
    "        e_miss[k3]=[donmiss[i,0],reg.coef_*donmiss[i,0]+reg.intercept_]\n",
    "        k3+=1"
   ]
  },
  {
   "cell_type": "code",
   "execution_count": 18,
   "metadata": {},
   "outputs": [
    {
     "data": {
      "image/png": "[encoded data removed]",
      "text/plain": [
       "<Figure size 432x288 with 1 Axes>"
      ]
     },
     "metadata": {
      "needs_background": "light"
     },
     "output_type": "display_data"
    }
   ],
   "source": [
    "gt.plot_maker(d_obs[:,0],d_obs[:,1],e_miss[:,0],e_miss[:,1],\"Regression imputation\")"
   ]
  },
  {
   "cell_type": "code",
   "execution_count": 19,
   "metadata": {},
   "outputs": [],
   "source": [
    "m_obs=reg.coef_*d_obs[:,0]+reg.intercept_\n",
    "m_miss=reg.coef_*d_miss[:,0]+reg.intercept_\n",
    "sigma=np.sqrt(np.var(d_obs[:,1]))\n",
    "stch_impute=gt.gaussian_noise(m_miss,mu=0,std=sigma)"
   ]
  },
  {
   "cell_type": "code",
   "execution_count": 20,
   "metadata": {},
   "outputs": [
    {
     "data": {
      "image/png": "[encoded data removed]",
      "text/plain": [
       "<Figure size 432x288 with 1 Axes>"
      ]
     },
     "metadata": {
      "needs_background": "light"
     },
     "output_type": "display_data"
    }
   ],
   "source": [
    "gt.plot_maker(d_obs[:,0],d_obs[:,1],e_miss[:,0],stch_impute,\"Stochastic linear regression\")"
   ]
  },
  {
   "cell_type": "code",
   "execution_count": 21,
   "metadata": {},
   "outputs": [],
   "source": [
    "imputed_data=np.array([list(d_miss[:,1])+list(d_obs[:,1]),list(e_miss[:,1])+list(d_obs[:,1]),list(stch_impute)+list(d_obs[:,1])])"
   ]
  },
  {
   "cell_type": "code",
   "execution_count": 22,
   "metadata": {},
   "outputs": [],
   "source": [
    "def results_maker(X):\n",
    "    d=np.zeros((7,3))\n",
    "    for i in range(3):\n",
    "        d[0,i]=np.mean(X[i])\n",
    "        d[1,i]=np.sqrt(np.var(X[i]))\n",
    "        d[2,i]=np.corrcoef(X[i],don[:,0])[0,1]\n",
    "        d[3,i]=d[0,i]-d[1,i]*t.ppf(0.975,99)/np.sqrt(n)\n",
    "        d[4,i]=d[0,i]+d[1,i]*t.ppf(0.975,99)/np.sqrt(n)\n",
    "        d[5,i]=d[4,i]-d[3,i]\n",
    "        d[6,i]=int(d[4,i]>125 and 125>d[3,i])\n",
    "    return d"
   ]
  },
  {
   "cell_type": "code",
   "execution_count": 23,
   "metadata": {},
   "outputs": [],
   "source": [
    "results=results_maker(imputed_data)"
   ]
  },
  {
   "cell_type": "code",
   "execution_count": 24,
   "metadata": {},
   "outputs": [],
   "source": [
    "def SimuMiss():\n",
    "    don, donmiss = gt.data_maker()\n",
    "    d1=np.mean((donmiss[:,1])[~np.isnan(donmiss[:,1])])\n",
    "    d_miss=np.zeros((73,2))\n",
    "    d_obs=np.zeros((27,2))\n",
    "    k1=0\n",
    "    k2=0\n",
    "    for i in range(len(donmiss)):\n",
    "        if np.isnan(donmiss[i,1]):\n",
    "            d_miss[k1]=[donmiss[i,0],d1]\n",
    "            k1+=1\n",
    "        else:\n",
    "            d_obs[k2]=donmiss[i]\n",
    "            k2+=1\n",
    "    reg = linear_model.LinearRegression()\n",
    "    reg.fit(d_obs[:,0].reshape((-1,1)),d_obs[:,1])\n",
    "    e_miss=np.zeros((73,2))\n",
    "    k3=0\n",
    "    for i in range(len(donmiss)):\n",
    "        if np.isnan(donmiss[i,1]):\n",
    "            e_miss[k3]=[donmiss[i,0],reg.coef_*donmiss[i,0]+reg.intercept_]\n",
    "            k3+=1\n",
    "    m_obs=reg.coef_*d_obs[:,0]+reg.intercept_\n",
    "    m_miss=reg.coef_*d_miss[:,0]+reg.intercept_\n",
    "    #sigma=np.sqrt(np.var(d_obs[:,1]))\n",
    "    sigma=np.sqrt(np.var(d_obs[:,1]-m_obs))\n",
    "    stch_impute=gt.gaussian_noise(m_miss,mu=0,std=sigma)\n",
    "    imputed_data=np.array([list(d_miss[:,1])+list(d_obs[:,1]),list(e_miss[:,1])+list(d_obs[:,1]),list(stch_impute)+list(d_obs[:,1])])\n",
    "    pre_results=results_maker(imputed_data)\n",
    "    results=[pre_results[0],pre_results[5],pre_results[6]]\n",
    "    return results\n",
    "    \n",
    "    "
   ]
  },
  {
   "cell_type": "code",
   "execution_count": 25,
   "metadata": {},
   "outputs": [
    {
     "name": "stdout",
     "output_type": "stream",
     "text": [
      "               MEAN       REG      STOCH\n",
      "bias       0.119713 -0.046396   0.564628\n",
      "cov        0.372000  0.595000   0.764000\n",
      "avg_width  5.040442  7.172501  10.413726\n"
     ]
    }
   ],
   "source": [
    "thousand_results=np.zeros((1000,3,3),dtype=np.float64)\n",
    "thr=thousand_results\n",
    "for i in range(1000):\n",
    "    thr[i]=SimuMiss()\n",
    "bias=[np.mean(thr[:,0,0]-125),np.mean(thr[:,0,1]-125),np.mean(thr[:,0,2]-125)]\n",
    "cov=[np.mean(thr[:,2,0]),np.mean(thr[:,2,1]),np.mean(thr[:,2,2])]\n",
    "avg_width=[np.average(thr[:,1,0]),np.average(thr[:,1,1]),np.average(thr[:,1,2])]\n",
    "res=[bias,cov,avg_width]\n",
    "print(pd.DataFrame(data=res,index=['bias','cov','avg_width'],columns=['MEAN','REG','STOCH']))"
   ]
  },
  {
   "cell_type": "markdown",
   "metadata": {},
   "source": [
    "Функции создания пропущенных значений разных типов"
   ]
  },
  {
   "cell_type": "code",
   "execution_count": 26,
   "metadata": {},
   "outputs": [],
   "source": [
    "#3.2.8\n",
    "def MCAR(arr):\n",
    "    f=[1 for i in range(27)]\n",
    "    g=[0 for i in range(73)]\n",
    "    na=73\n",
    "    h=f+g\n",
    "    random.shuffle(h)\n",
    "    for i in range(len(arr)):\n",
    "        if h[i]==0:\n",
    "            arr[i,1]=np.nan\n",
    "    return arr, na\n",
    "    \n",
    "def MAR(arr):\n",
    "    na=0\n",
    "    for i in range(len(arr)):\n",
    "        if arr[i,0]<=140:\n",
    "            arr[i,1]=None\n",
    "            na+=1\n",
    "    return arr, na\n",
    "    \n",
    "def MNAR(arr):\n",
    "    na=0\n",
    "    for i in range(len(arr)):\n",
    "        if arr[i,1]<=140:\n",
    "            arr[i,1]=None\n",
    "            na+=1\n",
    "    return arr, na\n",
    "def alt_results(X,na):\n",
    "    d=np.zeros((6,4))\n",
    "    for i in range(4):\n",
    "        d[0,i]=np.mean(X[i])\n",
    "        d[1,i]=np.sqrt(np.var(X[i]))\n",
    "        if i==0:\n",
    "            d[2,0]=d[0,0]-d[0,1]*t.ppf(0.975,100-na-1)/np.sqrt(100-na-1)\n",
    "            d[3,0]=d[0,0]+d[0,1]*t.ppf(0.975,100-na-1)/np.sqrt(100-na-1)\n",
    "        else:\n",
    "            d[2,i]=d[0,i]-d[1,i]*t.ppf(0.975,99)/np.sqrt(n)\n",
    "            d[3,i]=d[0,i]+d[1,i]*t.ppf(0.975,99)/np.sqrt(n)\n",
    "        d[4,i]=d[3,i]-d[2,i]\n",
    "        d[5,i]=int(d[3,i]>125 and 125>d[2,i])\n",
    "    return d"
   ]
  },
  {
   "cell_type": "code",
   "execution_count": 27,
   "metadata": {},
   "outputs": [],
   "source": [
    "def SimuMiss_(method):\n",
    "    na=0\n",
    "    don=np.random.multivariate_normal(size=n,mean=[125,125],cov=np.array([[625,375],[375,625]]))\n",
    "    donmiss=don.copy()\n",
    "    if method=='MAR':\n",
    "        donmiss, na=MAR(donmiss)      \n",
    "    if method=='MCAR':\n",
    "        donmiss, na=MCAR(donmiss)\n",
    "    if method=='MNAR':\n",
    "        donmiss, na=MNAR(donmiss)  \n",
    "    d1=np.mean((donmiss[:,1])[~np.isnan(donmiss[:,1])])\n",
    "    d_miss=np.zeros((na,2))\n",
    "    d_obs=np.zeros((100-na,2))\n",
    "    k1=0\n",
    "    k2=0\n",
    "    for i in range(len(donmiss)):\n",
    "        if np.isnan(donmiss[i,1]):\n",
    "            d_miss[k1]=[donmiss[i,0],d1]\n",
    "            k1+=1\n",
    "        else:\n",
    "            d_obs[k2]=donmiss[i]\n",
    "            k2+=1\n",
    "    reg = linear_model.LinearRegression()\n",
    "    reg.fit(d_obs[:,0].reshape((-1,1)),d_obs[:,1])\n",
    "    e_miss=np.zeros((na,2))\n",
    "    k3=0\n",
    "    for i in range(len(donmiss)):\n",
    "        if np.isnan(donmiss[i,1]):\n",
    "            e_miss[k3]=[donmiss[i,0],reg.coef_*donmiss[i,0]+reg.intercept_]\n",
    "            k3+=1\n",
    "    m_obs=reg.coef_*d_obs[:,0]+reg.intercept_\n",
    "    m_miss=reg.coef_*d_miss[:,0]+reg.intercept_\n",
    "    sd=np.sqrt(np.var(d_obs[:,1]-m_obs))\n",
    "    stch_impute=gt.gaussian_noise(m_miss,mu=0,std=sd)\n",
    "    imputed_data=np.array([list((donmiss[:,1])[~np.isnan(donmiss[:,1])]),list(d_miss[:,1])+list(d_obs[:,1]),list(e_miss[:,1])+list(d_obs[:,1]),list(stch_impute)+list(d_obs[:,1])])\n",
    "    pre_results=alt_results(imputed_data,na)\n",
    "    results=np.array(pre_results)\n",
    "    return results\n",
    "    "
   ]
  },
  {
   "cell_type": "code",
   "execution_count": 28,
   "metadata": {},
   "outputs": [
    {
     "name": "stdout",
     "output_type": "stream",
     "text": [
      "                    CA        MEAN         REG       STOCH\n",
      "muhat_y     128.293297  128.293297  127.272448  127.804196\n",
      "sigmahat_y   19.465955   10.114807   13.210431   21.171798\n",
      "inf         128.293297  126.286300  124.651212  123.603252\n",
      "sup         128.293297  130.300294  129.893684  132.005140\n",
      "width         0.000000    4.013994    5.242472    8.401888\n",
      "coverage      0.000000    0.000000    1.000000    1.000000\n",
      "                    CA        MEAN         REG       STOCH\n",
      "muhat_y     143.930340  143.930340  141.684138  142.174162\n",
      "sigmahat_y   15.424623    8.014869    8.223278   17.121274\n",
      "inf         143.930340  142.340016  140.052461  138.776930\n",
      "sup         143.930340  145.520664  143.315814  145.571394\n",
      "width         0.000000    3.180648    3.263353    6.794464\n",
      "coverage      0.000000    0.000000    0.000000    0.000000\n",
      "                    CA        MEAN         REG       STOCH\n",
      "muhat_y     153.390814  153.390814  152.568975  152.743007\n",
      "sigmahat_y   10.792170    5.911115    6.076186   12.035985\n",
      "inf         153.390814  152.217920  151.363328  150.354807\n",
      "sup         153.390814  154.563707  153.774622  155.131208\n",
      "width         0.000000    2.345787    2.411294    4.776401\n",
      "coverage      0.000000    0.000000    0.000000    0.000000\n"
     ]
    }
   ],
   "source": [
    "col_names=[\"CA\", \"MEAN\",\"REG\", \"STOCH\"]\n",
    "ind_names=[\"muhat_y\", \"sigmahat_y\", \"inf\", \"sup\", \"width\", \"coverage\"]\n",
    "MAT=np.zeros((6,4))+SimuMiss_(\"MCAR\")\n",
    "MAT1=np.zeros((6,4))+SimuMiss_(\"MAR\")\n",
    "MAT2=np.zeros((6,4))+SimuMiss_(\"MNAR\")\n",
    "print(pd.DataFrame(data=MAT,columns=col_names, index=ind_names))\n",
    "print(pd.DataFrame(data=MAT1,columns=col_names, index=ind_names))\n",
    "print(pd.DataFrame(data=MAT2,columns=col_names, index=ind_names))"
   ]
  },
  {
   "cell_type": "markdown",
   "metadata": {},
   "source": [
    "# 5 Multiple Imputation"
   ]
  },
  {
   "cell_type": "code",
   "execution_count": 29,
   "metadata": {},
   "outputs": [],
   "source": [
    "def impult(method,M):\n",
    "    na=0\n",
    "    don=np.random.multivariate_normal(size=n,mean=[125,125],cov=np.array([[625,375],[375,625]]))\n",
    "    donmiss=don.copy()\n",
    "    if method=='MAR':\n",
    "        donmiss, na=MAR(donmiss)      \n",
    "    if method=='MCAR':\n",
    "        donmiss, na=MCAR(donmiss)\n",
    "    if method=='MNAR':\n",
    "        donmiss, na=MNAR(donmiss) \n",
    "    ThetaHat = [0 for i1 in range(100)]\n",
    "    VarThetaHat = [0 for i1 in range(100)]\n",
    "    for i in range(M):\n",
    "        # Создаем копию массива\n",
    "        donstch=donmiss.copy()\n",
    "        # Создаем подмассив, включающий все пары с пропущенным 2-м элементом и заполняем его\n",
    "        donstch_miss=list()\n",
    "        # Создаем подмассив, включающий только полные пары элементов\n",
    "        donstch_obs=list()\n",
    "        for j in range(len(donstch)):\n",
    "            if np.isnan(donstch[j][1]):\n",
    "                donstch_miss.append(donstch[j])\n",
    "            else:\n",
    "                donstch_obs.append(donstch[j])\n",
    "        donstch_miss=np.array(donstch_miss)\n",
    "        donstch_obs=np.array(donstch_obs)\n",
    "        # Создаем выборку с возвращением из 100 элементов \n",
    "        sample=gt.the_sample(donstch,100)\n",
    "        #\n",
    "        reg = linear_model.LinearRegression()\n",
    "        # Обучаем выборку на известных данных\n",
    "        reg.fit(sample[:,0].reshape((-1,1)),sample[:,1])\n",
    "        # Предсказываем по первым элементам наблюдаемых данных,взятых из выборки sample,вторые элементы\n",
    "        reg_y=reg.predict(sample[:,0].reshape((-1,1)))\n",
    "        # Остаточная регрессия полученная по наблюдаемым данным\n",
    "        sd=np.sqrt(np.var(reg_y-sample[:,1]))\n",
    "        # Предсказываем пропуски вторых элементов по известным первым элементом\n",
    "        donstch_miss[:,1]=reg.predict(donstch_miss[:,0].reshape((-1,1)))\n",
    "        stch_impute=gt.gaussian_noise(donstch_miss[:,1],mu=0,std=sd)\n",
    "        donstch_full=np.array(list(donstch_obs)+list(donstch_miss))\n",
    "        ThetaHat[i] = np.mean(donstch_full[:, 1])\n",
    "        VarThetaHat[i] = np.var(donstch_full[:, 1])/10\n",
    "    ThetaHat=np.array(ThetaHat)\n",
    "    VarThetaHat=np.array(VarThetaHat)\n",
    "    ThetaHatBar=np.mean(np.array(ThetaHat))\n",
    "    T=np.mean(VarThetaHat)+(1+1/M)*np.var(ThetaHat)\n",
    "    Imddf=(M-1)*(1+np.mean(VarThetaHat)/((M+1)*np.var(ThetaHat)))**2\n",
    "    IMINF=ThetaHatBar-t.ppf(0.975,df=Imddf)*np.sqrt(T)\n",
    "    IMSUP=ThetaHatBar+t.ppf(0.975,df=Imddf)*np.sqrt(T)\n",
    "    IMINCI = (125<=IMSUP) and (125>=IMINF)\n",
    "    IMWIDTH = IMSUP - IMINF\n",
    "    return [ThetaHatBar,IMINF,IMSUP,IMINCI,IMWIDTH]"
   ]
  },
  {
   "cell_type": "code",
   "execution_count": 30,
   "metadata": {},
   "outputs": [
    {
     "name": "stdout",
     "output_type": "stream",
     "text": [
      "                  value\n",
      "ThetaHatBar  122.128038\n",
      "IMINF        106.737509\n",
      "IMSUP        137.518568\n",
      "IMINCI         1.000000\n",
      "IMWIDTH       30.781059\n",
      "                  value\n",
      "ThetaHatBar  117.130539\n",
      "IMINF         78.216881\n",
      "IMSUP        156.044198\n",
      "IMINCI         1.000000\n",
      "IMWIDTH       77.827318\n",
      "                  value\n",
      "ThetaHatBar  150.790523\n",
      "IMINF        144.450849\n",
      "IMSUP        157.130197\n",
      "IMINCI         0.000000\n",
      "IMWIDTH       12.679348\n"
     ]
    }
   ],
   "source": [
    "MAT= np.zeros(5)\n",
    "MAT1 = np.zeros(5)\n",
    "MAT2 = np.zeros(5)\n",
    "MAT = MAT + impult(\"MCAR\", M = 100)\n",
    "MAT1 = MAT1 + impult(\"MAR\", M = 100)\n",
    "MAT2 = MAT2 + impult(\"MNAR\", M = 100)\n",
    "param_names=['ThetaHatBar', 'IMINF', 'IMSUP', 'IMINCI', 'IMWIDTH']\n",
    "print(pd.DataFrame(data=MAT,index=param_names,columns=[\"value\"]))\n",
    "print(pd.DataFrame(data=MAT1,index=param_names,columns=[\"value\"]))\n",
    "print(pd.DataFrame(data=MAT2,index=param_names,columns=[\"value\"]))"
   ]
  },
  {
   "cell_type": "code",
   "execution_count": null,
   "metadata": {},
   "outputs": [],
   "source": []
  },
  {
   "cell_type": "code",
   "execution_count": null,
   "metadata": {},
   "outputs": [],
   "source": []
  }
 ],
 "metadata": {
  "kernelspec": {
   "display_name": "Python 3",
   "language": "python",
   "name": "python3"
  },
  "language_info": {
   "codemirror_mode": {
    "name": "ipython",
    "version": 3
   },
   "file_extension": ".py",
   "mimetype": "text/x-python",
   "name": "python",
   "nbconvert_exporter": "python",
   "pygments_lexer": "ipython3",
   "version": "3.8.3"
  }
 },
 "nbformat": 4,
 "nbformat_minor": 4
}
